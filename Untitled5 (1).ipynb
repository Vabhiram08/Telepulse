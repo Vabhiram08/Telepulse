{
 "cells": [
  {
   "cell_type": "code",
   "execution_count": 1,
   "id": "b23601b3-9851-4b99-8803-2167c6a526e6",
   "metadata": {},
   "outputs": [
    {
     "name": "stderr",
     "output_type": "stream",
     "text": [
      "C:\\Users\\abhir\\AppData\\Local\\Temp\\ipykernel_8428\\3938856655.py:15: FutureWarning: A value is trying to be set on a copy of a DataFrame or Series through chained assignment using an inplace method.\n",
      "The behavior will change in pandas 3.0. This inplace method will never work because the intermediate object on which we are setting values always behaves as a copy.\n",
      "\n",
      "For example, when doing 'df[col].method(value, inplace=True)', try using 'df.method({col: value}, inplace=True)' or df[col] = df[col].method(value) instead, to perform the operation inplace on the original object.\n",
      "\n",
      "\n",
      "  original_df['TotalCharges'].fillna(original_df['TotalCharges'].median(), inplace=True)\n"
     ]
    },
    {
     "name": "stdout",
     "output_type": "stream",
     "text": [
      "CatBoost Model Classification Report:\n",
      "              precision    recall  f1-score   support\n",
      "\n",
      "           0       0.97      0.94      0.96       580\n",
      "           1       0.95      0.97      0.96       604\n",
      "\n",
      "    accuracy                           0.96      1184\n",
      "   macro avg       0.96      0.96      0.96      1184\n",
      "weighted avg       0.96      0.96      0.96      1184\n",
      "\n",
      "CatBoost Model Accuracy: 95.78%\n"
     ]
    },
    {
     "data": {
      "text/plain": [
       "['label_encoder.pkl']"
      ]
     },
     "execution_count": 1,
     "metadata": {},
     "output_type": "execute_result"
    }
   ],
   "source": [
    "import numpy as np\n",
    "import pandas as pd\n",
    "from sklearn.model_selection import train_test_split, RandomizedSearchCV\n",
    "from sklearn.preprocessing import StandardScaler, LabelEncoder\n",
    "from sklearn.metrics import classification_report, accuracy_score\n",
    "from imblearn.combine import SMOTEENN\n",
    "from catboost import CatBoostClassifier\n",
    "\n",
    "# Load the dataset\n",
    "original_df = pd.read_csv(\"C:/Users/abhir/Downloads/WA_Fn-UseC_-Telco-Customer-Churn.csv\")\n",
    "\n",
    "# Preprocess the data\n",
    "# Convert 'TotalCharges' to numeric, forcing errors to NaN\n",
    "original_df['TotalCharges'] = pd.to_numeric(original_df['TotalCharges'], errors='coerce')\n",
    "original_df['TotalCharges'].fillna(original_df['TotalCharges'].median(), inplace=True)\n",
    "\n",
    "# Encode the target 'Churn' (binary classification: Yes/No)\n",
    "label_encoder = LabelEncoder()\n",
    "original_df['Churn'] = label_encoder.fit_transform(original_df['Churn'])\n",
    "\n",
    "# Separate features (X) and target (y)\n",
    "X = original_df[['MonthlyCharges', 'tenure', 'TotalCharges']].copy()\n",
    "y = original_df['Churn']\n",
    "\n",
    "# Scale numerical features\n",
    "scaler = StandardScaler()\n",
    "X_scaled = scaler.fit_transform(X)\n",
    "\n",
    "# Apply SMOTEENN to handle class imbalance\n",
    "smoteenn = SMOTEENN(random_state=42)\n",
    "X_resampled, y_resampled = smoteenn.fit_resample(X_scaled, y)\n",
    "\n",
    "# Split the resampled data into training and testing sets\n",
    "X_train, X_test, y_train, y_test = train_test_split(X_resampled, y_resampled, test_size=0.2, random_state=42)\n",
    "\n",
    "# ----------- CatBoost Model with Hyperparameter Tuning -----------\n",
    "catboost_model = CatBoostClassifier(verbose=0, random_seed=42)\n",
    "\n",
    "# Define the parameter grid for CatBoost\n",
    "param_grid = {\n",
    "    'depth': [4, 6, 8],\n",
    "    'learning_rate': [0.01, 0.05, 0.1],\n",
    "    'iterations': [100, 200, 300],\n",
    "    'l2_leaf_reg': [1, 3, 5, 7]\n",
    "}\n",
    "\n",
    "# Use RandomizedSearchCV to find the best parameters\n",
    "catboost_search = RandomizedSearchCV(estimator=catboost_model, param_distributions=param_grid, \n",
    "                                     n_iter=10, cv=3, scoring='accuracy', random_state=42, n_jobs=-1)\n",
    "catboost_search.fit(X_train, y_train)\n",
    "best_catboost = catboost_search.best_estimator_\n",
    "\n",
    "# Predict on the test set\n",
    "y_pred = best_catboost.predict(X_test)\n",
    "\n",
    "# Evaluate the performance of the CatBoost model\n",
    "print(\"CatBoost Model Classification Report:\")\n",
    "print(classification_report(y_test, y_pred))\n",
    "\n",
    "accuracy = accuracy_score(y_test, y_pred)\n",
    "print(f\"CatBoost Model Accuracy: {accuracy * 100:.2f}%\")\n",
    "import joblib\n",
    "\n",
    "# Save the model\n",
    "joblib.dump(best_catboost, 'catboost_model.pkl')\n",
    "joblib.dump(scaler, 'scaler.pkl')\n",
    "joblib.dump(label_encoder, 'label_encoder.pkl')"
   ]
  },
  {
   "cell_type": "code",
   "execution_count": null,
   "id": "3757c674-cc1f-4f60-972d-e4ef719826fb",
   "metadata": {},
   "outputs": [],
   "source": []
  }
 ],
 "metadata": {
  "kernelspec": {
   "display_name": "base",
   "language": "python",
   "name": "python3"
  },
  "language_info": {
   "codemirror_mode": {
    "name": "ipython",
    "version": 3
   },
   "file_extension": ".py",
   "mimetype": "text/x-python",
   "name": "python",
   "nbconvert_exporter": "python",
   "pygments_lexer": "ipython3",
   "version": "3.12.4"
  }
 },
 "nbformat": 4,
 "nbformat_minor": 5
}
